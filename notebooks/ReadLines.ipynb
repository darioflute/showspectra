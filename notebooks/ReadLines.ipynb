{
 "cells": [
  {
   "cell_type": "markdown",
   "metadata": {},
   "source": [
    "# Notebook on reading the data analysis\n",
    "\n",
    "Data analysis is saved in JSON files inside the directory containing the data.\n",
    "\n",
    "Although JSON files are readable since they are written in ASCII, a better way of reading in an organized structure is explained."
   ]
  },
  {
   "cell_type": "code",
   "execution_count": 1,
   "metadata": {},
   "outputs": [],
   "source": [
    "from showspectra.inout import getSpectra\n",
    "\n",
    "file = '/Users/dfadda/Python/WIYN/A85_0/showspectra.json'\n",
    "spectra = getSpectra(file)"
   ]
  },
  {
   "cell_type": "code",
   "execution_count": 2,
   "metadata": {},
   "outputs": [
    {
     "name": "stdout",
     "output_type": "stream",
     "text": [
      "There are  76  spectra\n"
     ]
    }
   ],
   "source": [
    "n = len(spectra)\n",
    "print(\"There are \",n,' spectra')"
   ]
  },
  {
   "cell_type": "code",
   "execution_count": 3,
   "metadata": {},
   "outputs": [],
   "source": [
    "# Skip sky spectra\n",
    "import numpy as np\n",
    "\n",
    "spectypes = np.array([s.spectype for s in spectra])\n",
    "qualities = np.array([s.quality for s in spectra])\n",
    "z = np.array([s.z for s in spectra])\n",
    "\n",
    "idx = (spectypes != 'sky') & (qualities != '?') & (z > 0.04) & (z < 0.06)"
   ]
  },
  {
   "cell_type": "code",
   "execution_count": 4,
   "metadata": {},
   "outputs": [
    {
     "name": "stdout",
     "output_type": "stream",
     "text": [
      "There are  2  cluster member candidates\n"
     ]
    }
   ],
   "source": [
    "print('There are ',np.sum(idx),' cluster member candidates')"
   ]
  },
  {
   "cell_type": "code",
   "execution_count": 5,
   "metadata": {},
   "outputs": [
    {
     "data": {
      "image/png": "[encoded data removed]",
      "text/plain": [
       "<Figure size 432x288 with 1 Axes>"
      ]
     },
     "metadata": {
      "needs_background": "light"
     },
     "output_type": "display_data"
    }
   ],
   "source": [
    "from astropy.coordinates import SkyCoord\n",
    "from astropy import units as u\n",
    "\n",
    "coords = [SkyCoord(s.ra, s.dec, frame='icrs', unit=(u.hourangle, u.deg)) for s in spectra]\n",
    "ra = np.array([c.ra.value for c in coords])\n",
    "dec = np.array([c.dec.value for c in coords])\n",
    "\n",
    "%matplotlib inline\n",
    "import matplotlib.pyplot as plt\n",
    "\n",
    "plt.plot(ra,dec,'o')\n",
    "plt.show()"
   ]
  },
  {
   "cell_type": "code",
   "execution_count": 30,
   "metadata": {},
   "outputs": [
    {
     "name": "stdout",
     "output_type": "stream",
     "text": [
      "dict_keys(['[NII] 6549', 'H-alpha 6564', '[NII] 6585', 'SII 6718', '[OI] 6302', 'HeI 5877', 'A:Na 5894', '[OIII] 4960', '[OIII] 5008', 'H-beta 4862', 'A:H-beta 4862'])\n"
     ]
    }
   ],
   "source": [
    "print(spectra[1].lines.keys())"
   ]
  },
  {
   "cell_type": "code",
   "execution_count": 49,
   "metadata": {},
   "outputs": [
    {
     "name": "stdout",
     "output_type": "stream",
     "text": [
      "[0.00000000e+00 5.45954460e-14 0.00000000e+00 0.00000000e+00\n",
      " 0.00000000e+00 0.00000000e+00 0.00000000e+00 1.07051355e-14\n",
      " 1.06112070e-14 0.00000000e+00 0.00000000e+00 0.00000000e+00\n",
      " 0.00000000e+00 0.00000000e+00 1.06829696e-14 0.00000000e+00\n",
      " 0.00000000e+00 0.00000000e+00 7.96767317e-15 0.00000000e+00\n",
      " 0.00000000e+00 0.00000000e+00 0.00000000e+00 0.00000000e+00\n",
      " 0.00000000e+00 4.35556018e-15 0.00000000e+00 7.46443861e-14\n",
      " 0.00000000e+00 5.64229112e-14 0.00000000e+00 0.00000000e+00\n",
      " 0.00000000e+00 0.00000000e+00 0.00000000e+00 0.00000000e+00\n",
      " 0.00000000e+00 0.00000000e+00 0.00000000e+00 0.00000000e+00\n",
      " 0.00000000e+00 0.00000000e+00 0.00000000e+00 3.86640002e-14\n",
      " 0.00000000e+00 0.00000000e+00 0.00000000e+00 4.21014047e-15\n",
      " 0.00000000e+00 7.01736500e-15 0.00000000e+00 0.00000000e+00\n",
      " 0.00000000e+00 0.00000000e+00 0.00000000e+00 0.00000000e+00\n",
      " 0.00000000e+00 0.00000000e+00 3.52524105e-15 4.42810456e-14\n",
      " 4.09493331e-15 2.35238503e-14 0.00000000e+00 0.00000000e+00\n",
      " 0.00000000e+00 0.00000000e+00 0.00000000e+00 0.00000000e+00\n",
      " 0.00000000e+00 0.00000000e+00 1.18319335e-14 0.00000000e+00\n",
      " 0.00000000e+00 0.00000000e+00 0.00000000e+00 0.00000000e+00]\n"
     ]
    }
   ],
   "source": [
    "# Lines measured\n",
    "Ha = np.zeros(n)\n",
    "Hb = np.zeros(n)\n",
    "NII = np.zeros(n)\n",
    "OIII = np.zeros(n)\n",
    "\n",
    "for i, s in enumerate(spectra):\n",
    "    if len(s.lines) > 0:\n",
    "        try:\n",
    "            Ha[i] = s.lines['H-alpha 6564'].flux\n",
    "        except:\n",
    "            pass\n",
    "        try:\n",
    "            Hb[i] = s.lines['H-beta 4862'].flux\n",
    "        except:\n",
    "            pass\n",
    "        try:\n",
    "            NII[i] = s.lines['[NII] 6585'].flux\n",
    "        except:\n",
    "            pass\n",
    "        try:\n",
    "            OIII[i] = s.lines['[OIII] 5008'].flux\n",
    "        except:\n",
    "            pass\n",
    "    #else:\n",
    "    #    Ha[i] = np.nan"
   ]
  },
  {
   "cell_type": "code",
   "execution_count": 53,
   "metadata": {},
   "outputs": [
    {
     "data": {
      "image/png": "[encoded data removed]",
      "text/plain": [
       "<Figure size 432x288 with 1 Axes>"
      ]
     },
     "metadata": {
      "needs_background": "light"
     },
     "output_type": "display_data"
    }
   ],
   "source": [
    "%matplotlib inline\n",
    "import matplotlib.pyplot as plt\n",
    "\n",
    "idx = (Ha > 0) & (NII > 0) & (Hb > 0) & (OIII > 0)\n",
    "plt.plot(Ha[idx]/NII[idx], Hb[idx]/OIII[idx], 'o')\n",
    "plt.xlabel('Ha/[NII]')\n",
    "plt.ylabel('Hb/[OIII]')\n",
    "plt.show()"
   ]
  },
  {
   "cell_type": "code",
   "execution_count": null,
   "metadata": {},
   "outputs": [],
   "source": []
  }
 ],
 "metadata": {
  "kernelspec": {
   "display_name": "Python 3",
   "language": "python",
   "name": "python3"
  },
  "language_info": {
   "codemirror_mode": {
    "name": "ipython",
    "version": 3
   },
   "file_extension": ".py",
   "mimetype": "text/x-python",
   "name": "python",
   "nbconvert_exporter": "python",
   "pygments_lexer": "ipython3",
   "version": "3.6.6"
  }
 },
 "nbformat": 4,
 "nbformat_minor": 2
}
