{
 "cells": [
  {
   "cell_type": "markdown",
   "metadata": {},
   "source": [
    "# Abell 85  -  SDSS spectra\n",
    "\n",
    "Scripts to get list of galaxies in SDSS."
   ]
  },
  {
   "cell_type": "code",
   "execution_count": 17,
   "metadata": {},
   "outputs": [
    {
     "name": "stdout",
     "output_type": "stream",
     "text": [
      "\"http://cas.sdss.org/dr16/en/tools/search/x_results.aspx?searchtool=SQL&TaskName=Skyserver.Search.SQL&syntax=NoSyntax&ReturnHtml=false&cmd=select+s.targetObjID,s.ra,s.dec,s.z,s.zErr,s.plate,s.fiberID+from+SpecObj+as+s+where+s.ra+between+10.0+and+11.0+and+s.dec+between+-9.120000000000001+and+-8.8+order+by+s.ra&format=csv\"\n",
      "\"http://cas.sdss.org/dr16/en/tools/search/x_results.aspx?searchtool=SQL&TaskName=Skyserver.Search.SQL&syntax=NoSyntax&ReturnHtml=false&cmd=select+s.targetObjID,s.ra,s.dec,s.z,s.zErr,s.plate,s.fiberID+from+SpecObj+as+s+where+s.ra+between+10.0+and+11.0+and+s.dec+between+-9.120000000000001+and+-8.8+order+by+s.ra&format=csv\"\n",
      "\"http://cas.sdss.org/dr16/en/tools/search/x_results.aspx?searchtool=SQL&TaskName=Skyserver.Search.SQL&syntax=NoSyntax&ReturnHtml=false&cmd=select+s.targetObjID,s.ra,s.dec,s.z,s.zErr,s.plate,s.fiberID+from+SpecObj+as+s+where+s.ra+between+10.0+and+11.0+and+s.dec+between+-9.120000000000001+and+-8.8+order+by+s.ra&format=csv\"\n",
      "\"http://cas.sdss.org/dr16/en/tools/search/x_results.aspx?searchtool=SQL&TaskName=Skyserver.Search.SQL&syntax=NoSyntax&ReturnHtml=false&cmd=select+s.targetObjID,s.ra,s.dec,s.z,s.zErr,s.plate,s.fiberID+from+SpecObj+as+s+where+s.ra+between+10.0+and+11.0+and+s.dec+between+-9.120000000000001+and+-8.8+order+by+s.ra&format=csv\"\n",
      "\"http://cas.sdss.org/dr16/en/tools/search/x_results.aspx?searchtool=SQL&TaskName=Skyserver.Search.SQL&syntax=NoSyntax&ReturnHtml=false&cmd=select+s.targetObjID,s.ra,s.dec,s.z,s.zErr,s.plate,s.fiberID+from+SpecObj+as+s+where+s.ra+between+10.0+and+11.0+and+s.dec+between+-9.120000000000001+and+-8.8+order+by+s.ra&format=csv\"\n"
     ]
    }
   ],
   "source": [
    "import numpy as np\n",
    "import os    \n",
    "\n",
    "ra0 = 10.4075\n",
    "dec0 = -9.3425\n",
    "\n",
    "dmax=-8.8\n",
    "dmin=-10.4\n",
    "amin=10.\n",
    "amax=11.\n",
    "\n",
    "ramin = str(amin)\n",
    "ramax = str(amax)\n",
    "\n",
    "n=5\n",
    "diff = (dmax-dmin)/n\n",
    "decmin=dmin+np.arange(n)*diff\n",
    "decmax=diff+dmin+np.arange(n)*diff\n",
    "\n",
    "#for idecmin, idecmax in zip(decmin, decmax):\n",
    "#    string='\"http://cas.sdss.org/dr16/en/tools/search/x_results.aspx?searchtool=SQL&TaskName=Skyserver.Search.SQL&syntax=NoSyntax&ReturnHtml=false&cmd=select+g.objid,g.ra,g.dec,g.u,g.Err_u,g.g,g.Err_g,g.r,g.Err_r,g.i,g.Err_i,g.z,g.Err_z+from+PhotoObj+AS+g+where+g.ra+between+'+str(ramin)+'+and+'+str(ramax)+'+and+g.dec+between+'+str(idecmin)+'+and+'+str(idecmax)+'+order+by+g.objid&format=csv\"'\n",
    "#    print(string)\n",
    "#    os.system('wget -l 1 -o log -O - '+string+' | sed -e \"s/,/  /g\" -e \"1d\" >> A85_SDSS_photoz.ASC')\n",
    "\n",
    "# Getting sources with redshift\n",
    "\n",
    "outdir = '/media/Data/workspace/Clusters/A85/Spectra/SDSS/'\n",
    "outfile = 'A85_SDSS_z.ASC'\n",
    "fields = ['targetObjID','X_WORLD','Y_WORLD','z','zErr','Plate','FiberID']\n",
    "text_file = open(outdir+outfile, \"wt\")\n",
    "for i, field in enumerate(fields):\n",
    "    text_file.write('# {:1d} '.format(i+1)+field+'\\n')\n",
    "text_file.close()\n",
    "\n",
    "# tail -n +2   cuts the first line of output (name of the fields)\n",
    "\n",
    "url = '\"http://cas.sdss.org/dr16/en/tools/search/x_results.aspx?searchtool=SQL&TaskName=Skyserver.Search.SQL&syntax=NoSyntax&ReturnHtml=false&'\n",
    "command = 'cmd=select+s.targetObjID,s.ra,s.dec,s.z,s.zErr,s.plate,s.fiberID+'\n",
    "origin = 'from+SpecObj+as+s+'\n",
    "condition = 'where+s.ra+between+'+ramin+'+and+'+ramax+'+and+s.dec+between+'+str(idecmin)+'+and+'+str(idecmax)\n",
    "outformat = '+order+by+s.ra&format=csv\"'\n",
    "\n",
    "for idecmin, idecmax in zip(decmin, decmax):\n",
    "    string = url+command+origin+condition+outformat\n",
    "    print(string)\n",
    "    os.system('wget -l 1 -o log -O - '+string+' | tail -n +2 | sed -e \"s/,/  /g\" -e \"1d\" >> '+outdir+outfile)\n"
   ]
  },
  {
   "cell_type": "code",
   "execution_count": 36,
   "metadata": {},
   "outputs": [
    {
     "name": "stdout",
     "output_type": "stream",
     "text": [
      "\"http://cas.sdss.org/dr16/en/tools/search/x_results.aspx?searchtool=SQL&TaskName=Skyserver.Search.SQL&syntax=NoSyntax&ReturnHtml=false&cmd=select+s.targetObjID,s.ra,s.dec,s.z,s.zErr,s.plate,s.fiberID,e.Flux_Hb_4861,e.Flux_OIII_5006,e.Flux_Ha_6562,e.Flux_NII_6583,sm.logMass,sm.Metallicity+FROM+SpecObj+AS+s+JOIN+emissionLinesPort+AS+e+ON+s.specObjID=e.specObjID+JOIN+stellarMassStarformingPort+AS+sm+ON+s.specObjID=sm.specObjID+where+s.ra+between+10.0+and+11.0+and+s.dec+between+-9.120000000000001+and+-8.8+and+s.z+between+0.045+and+0.065+order+by+s.ra&format=csv\"\n",
      "\"http://cas.sdss.org/dr16/en/tools/search/x_results.aspx?searchtool=SQL&TaskName=Skyserver.Search.SQL&syntax=NoSyntax&ReturnHtml=false&cmd=select+s.targetObjID,s.ra,s.dec,s.z,s.zErr,s.plate,s.fiberID,e.Flux_Hb_4861,e.Flux_OIII_5006,e.Flux_Ha_6562,e.Flux_NII_6583,sm.logMass,sm.Metallicity+FROM+SpecObj+AS+s+JOIN+emissionLinesPort+AS+e+ON+s.specObjID=e.specObjID+JOIN+stellarMassStarformingPort+AS+sm+ON+s.specObjID=sm.specObjID+where+s.ra+between+10.0+and+11.0+and+s.dec+between+-9.120000000000001+and+-8.8+and+s.z+between+0.045+and+0.065+order+by+s.ra&format=csv\"\n",
      "\"http://cas.sdss.org/dr16/en/tools/search/x_results.aspx?searchtool=SQL&TaskName=Skyserver.Search.SQL&syntax=NoSyntax&ReturnHtml=false&cmd=select+s.targetObjID,s.ra,s.dec,s.z,s.zErr,s.plate,s.fiberID,e.Flux_Hb_4861,e.Flux_OIII_5006,e.Flux_Ha_6562,e.Flux_NII_6583,sm.logMass,sm.Metallicity+FROM+SpecObj+AS+s+JOIN+emissionLinesPort+AS+e+ON+s.specObjID=e.specObjID+JOIN+stellarMassStarformingPort+AS+sm+ON+s.specObjID=sm.specObjID+where+s.ra+between+10.0+and+11.0+and+s.dec+between+-9.120000000000001+and+-8.8+and+s.z+between+0.045+and+0.065+order+by+s.ra&format=csv\"\n",
      "\"http://cas.sdss.org/dr16/en/tools/search/x_results.aspx?searchtool=SQL&TaskName=Skyserver.Search.SQL&syntax=NoSyntax&ReturnHtml=false&cmd=select+s.targetObjID,s.ra,s.dec,s.z,s.zErr,s.plate,s.fiberID,e.Flux_Hb_4861,e.Flux_OIII_5006,e.Flux_Ha_6562,e.Flux_NII_6583,sm.logMass,sm.Metallicity+FROM+SpecObj+AS+s+JOIN+emissionLinesPort+AS+e+ON+s.specObjID=e.specObjID+JOIN+stellarMassStarformingPort+AS+sm+ON+s.specObjID=sm.specObjID+where+s.ra+between+10.0+and+11.0+and+s.dec+between+-9.120000000000001+and+-8.8+and+s.z+between+0.045+and+0.065+order+by+s.ra&format=csv\"\n",
      "\"http://cas.sdss.org/dr16/en/tools/search/x_results.aspx?searchtool=SQL&TaskName=Skyserver.Search.SQL&syntax=NoSyntax&ReturnHtml=false&cmd=select+s.targetObjID,s.ra,s.dec,s.z,s.zErr,s.plate,s.fiberID,e.Flux_Hb_4861,e.Flux_OIII_5006,e.Flux_Ha_6562,e.Flux_NII_6583,sm.logMass,sm.Metallicity+FROM+SpecObj+AS+s+JOIN+emissionLinesPort+AS+e+ON+s.specObjID=e.specObjID+JOIN+stellarMassStarformingPort+AS+sm+ON+s.specObjID=sm.specObjID+where+s.ra+between+10.0+and+11.0+and+s.dec+between+-9.120000000000001+and+-8.8+and+s.z+between+0.045+and+0.065+order+by+s.ra&format=csv\"\n"
     ]
    }
   ],
   "source": [
    "# Cluster members with redshift and line intensities\n",
    "\n",
    "url = '\"http://cas.sdss.org/dr16/en/tools/search/x_results.aspx?searchtool=SQL&TaskName=Skyserver.Search.SQL&syntax=NoSyntax&ReturnHtml=false&'\n",
    "command = 'cmd=select+s.targetObjID,s.ra,s.dec,s.z,s.zErr,s.plate,s.fiberID,'\n",
    "lines = 'e.Flux_Hb_4861,e.Flux_OIII_5006,e.Flux_Ha_6562,e.Flux_NII_6583,sm.logMass,sm.Metallicity+'\n",
    "origin = 'FROM+SpecObj+AS+s+JOIN+emissionLinesPort+AS+e+ON+s.specObjID=e.specObjID+'\n",
    "origin += 'JOIN+stellarMassStarformingPort+AS+sm+ON+s.specObjID=sm.specObjID+'\n",
    "condition = 'where+s.ra+between+'+ramin+'+and+'+ramax+'+and+s.dec+between+'+str(idecmin)+'+and+'+str(idecmax)+'+and+s.z+between+0.045+and+0.065'\n",
    "outformat = '+order+by+s.ra&format=csv\"'\n",
    "\n",
    "outdir = '/media/Data/workspace/Clusters/A85/Spectra/SDSS/'\n",
    "outfile = 'A85_SDSS_lines.ASC'\n",
    "fields = ['targetObjID','X_WORLD','Y_WORLD','z','zErr','Plate','FiberID',\n",
    "          'Hb4861 [10-17 ergs/cm2/s/A]','[OIII]5006 [10-17 ergs/cm2/s/A]',\n",
    "          'Ha6562 [10-17 ergs/cm2/s/A]','[NII]6583 [10-17 ergs/cm2/s/A]',\n",
    "         'StellarMass [dex solar mass]','Metallicity']\n",
    "text_file = open(outdir+outfile, \"wt\")\n",
    "for i, field in enumerate(fields):\n",
    "    text_file.write('# {:1d} '.format(i+1)+field+'\\n')\n",
    "text_file.close()\n",
    "\n",
    "for idecmin, idecmax in zip(decmin, decmax):\n",
    "    string = url+command+lines+origin+condition+outformat\n",
    "    print(string)\n",
    "    os.system('wget -l 1 -o log -O - '+string+' | tail -n +2 | sed -e \"s/,/  /g\" -e \"1d\" >> '+outdir+outfile)\n"
   ]
  },
  {
   "cell_type": "markdown",
   "metadata": {},
   "source": [
    "## Lines & masses for all SDSS"
   ]
  },
  {
   "cell_type": "code",
   "execution_count": 129,
   "metadata": {},
   "outputs": [
    {
     "name": "stdout",
     "output_type": "stream",
     "text": [
      "-90.0\n",
      "\"http://cas.sdss.org/dr16/en/tools/search/x_results.aspx?searchtool=SQL&TaskName=Skyserver.Search.SQL&syntax=NoSyntax&ReturnHtml=false&cmd=select+s.targetObjID,s.ra,s.dec,s.z,s.zErr,s.plate,s.fiberID,e.Flux_Hb_4861,e.Flux_OIII_5006,e.Flux_Ha_6562,e.Flux_NII_6583,sm.logMass,sm.Metallicity,s.class,s.targetType+FROM+SpecObj+AS+s+JOIN+emissionLinesPort+AS+e+ON+s.specObjID=e.specObjID+JOIN+stellarMassStarformingPort+AS+sm+ON+s.specObjID=sm.specObjID+where+s.dec+between+72.0+and+90.0+and+s.z+between+0.0448+and+0.0627+and+e.Flux_Ha_6562>0+and+e.Flux_NII_6583>0+order+by+s.ra&format=csv\"\n",
      "-72.0\n",
      "\"http://cas.sdss.org/dr16/en/tools/search/x_results.aspx?searchtool=SQL&TaskName=Skyserver.Search.SQL&syntax=NoSyntax&ReturnHtml=false&cmd=select+s.targetObjID,s.ra,s.dec,s.z,s.zErr,s.plate,s.fiberID,e.Flux_Hb_4861,e.Flux_OIII_5006,e.Flux_Ha_6562,e.Flux_NII_6583,sm.logMass,sm.Metallicity,s.class,s.targetType+FROM+SpecObj+AS+s+JOIN+emissionLinesPort+AS+e+ON+s.specObjID=e.specObjID+JOIN+stellarMassStarformingPort+AS+sm+ON+s.specObjID=sm.specObjID+where+s.dec+between+72.0+and+90.0+and+s.z+between+0.0448+and+0.0627+and+e.Flux_Ha_6562>0+and+e.Flux_NII_6583>0+order+by+s.ra&format=csv\"\n",
      "-54.0\n",
      "\"http://cas.sdss.org/dr16/en/tools/search/x_results.aspx?searchtool=SQL&TaskName=Skyserver.Search.SQL&syntax=NoSyntax&ReturnHtml=false&cmd=select+s.targetObjID,s.ra,s.dec,s.z,s.zErr,s.plate,s.fiberID,e.Flux_Hb_4861,e.Flux_OIII_5006,e.Flux_Ha_6562,e.Flux_NII_6583,sm.logMass,sm.Metallicity,s.class,s.targetType+FROM+SpecObj+AS+s+JOIN+emissionLinesPort+AS+e+ON+s.specObjID=e.specObjID+JOIN+stellarMassStarformingPort+AS+sm+ON+s.specObjID=sm.specObjID+where+s.dec+between+72.0+and+90.0+and+s.z+between+0.0448+and+0.0627+and+e.Flux_Ha_6562>0+and+e.Flux_NII_6583>0+order+by+s.ra&format=csv\"\n",
      "-36.0\n",
      "\"http://cas.sdss.org/dr16/en/tools/search/x_results.aspx?searchtool=SQL&TaskName=Skyserver.Search.SQL&syntax=NoSyntax&ReturnHtml=false&cmd=select+s.targetObjID,s.ra,s.dec,s.z,s.zErr,s.plate,s.fiberID,e.Flux_Hb_4861,e.Flux_OIII_5006,e.Flux_Ha_6562,e.Flux_NII_6583,sm.logMass,sm.Metallicity,s.class,s.targetType+FROM+SpecObj+AS+s+JOIN+emissionLinesPort+AS+e+ON+s.specObjID=e.specObjID+JOIN+stellarMassStarformingPort+AS+sm+ON+s.specObjID=sm.specObjID+where+s.dec+between+72.0+and+90.0+and+s.z+between+0.0448+and+0.0627+and+e.Flux_Ha_6562>0+and+e.Flux_NII_6583>0+order+by+s.ra&format=csv\"\n",
      "-18.0\n",
      "\"http://cas.sdss.org/dr16/en/tools/search/x_results.aspx?searchtool=SQL&TaskName=Skyserver.Search.SQL&syntax=NoSyntax&ReturnHtml=false&cmd=select+s.targetObjID,s.ra,s.dec,s.z,s.zErr,s.plate,s.fiberID,e.Flux_Hb_4861,e.Flux_OIII_5006,e.Flux_Ha_6562,e.Flux_NII_6583,sm.logMass,sm.Metallicity,s.class,s.targetType+FROM+SpecObj+AS+s+JOIN+emissionLinesPort+AS+e+ON+s.specObjID=e.specObjID+JOIN+stellarMassStarformingPort+AS+sm+ON+s.specObjID=sm.specObjID+where+s.dec+between+72.0+and+90.0+and+s.z+between+0.0448+and+0.0627+and+e.Flux_Ha_6562>0+and+e.Flux_NII_6583>0+order+by+s.ra&format=csv\"\n",
      "0.0\n",
      "\"http://cas.sdss.org/dr16/en/tools/search/x_results.aspx?searchtool=SQL&TaskName=Skyserver.Search.SQL&syntax=NoSyntax&ReturnHtml=false&cmd=select+s.targetObjID,s.ra,s.dec,s.z,s.zErr,s.plate,s.fiberID,e.Flux_Hb_4861,e.Flux_OIII_5006,e.Flux_Ha_6562,e.Flux_NII_6583,sm.logMass,sm.Metallicity,s.class,s.targetType+FROM+SpecObj+AS+s+JOIN+emissionLinesPort+AS+e+ON+s.specObjID=e.specObjID+JOIN+stellarMassStarformingPort+AS+sm+ON+s.specObjID=sm.specObjID+where+s.dec+between+72.0+and+90.0+and+s.z+between+0.0448+and+0.0627+and+e.Flux_Ha_6562>0+and+e.Flux_NII_6583>0+order+by+s.ra&format=csv\"\n",
      "18.0\n",
      "\"http://cas.sdss.org/dr16/en/tools/search/x_results.aspx?searchtool=SQL&TaskName=Skyserver.Search.SQL&syntax=NoSyntax&ReturnHtml=false&cmd=select+s.targetObjID,s.ra,s.dec,s.z,s.zErr,s.plate,s.fiberID,e.Flux_Hb_4861,e.Flux_OIII_5006,e.Flux_Ha_6562,e.Flux_NII_6583,sm.logMass,sm.Metallicity,s.class,s.targetType+FROM+SpecObj+AS+s+JOIN+emissionLinesPort+AS+e+ON+s.specObjID=e.specObjID+JOIN+stellarMassStarformingPort+AS+sm+ON+s.specObjID=sm.specObjID+where+s.dec+between+72.0+and+90.0+and+s.z+between+0.0448+and+0.0627+and+e.Flux_Ha_6562>0+and+e.Flux_NII_6583>0+order+by+s.ra&format=csv\"\n",
      "36.0\n",
      "\"http://cas.sdss.org/dr16/en/tools/search/x_results.aspx?searchtool=SQL&TaskName=Skyserver.Search.SQL&syntax=NoSyntax&ReturnHtml=false&cmd=select+s.targetObjID,s.ra,s.dec,s.z,s.zErr,s.plate,s.fiberID,e.Flux_Hb_4861,e.Flux_OIII_5006,e.Flux_Ha_6562,e.Flux_NII_6583,sm.logMass,sm.Metallicity,s.class,s.targetType+FROM+SpecObj+AS+s+JOIN+emissionLinesPort+AS+e+ON+s.specObjID=e.specObjID+JOIN+stellarMassStarformingPort+AS+sm+ON+s.specObjID=sm.specObjID+where+s.dec+between+72.0+and+90.0+and+s.z+between+0.0448+and+0.0627+and+e.Flux_Ha_6562>0+and+e.Flux_NII_6583>0+order+by+s.ra&format=csv\"\n",
      "54.0\n",
      "\"http://cas.sdss.org/dr16/en/tools/search/x_results.aspx?searchtool=SQL&TaskName=Skyserver.Search.SQL&syntax=NoSyntax&ReturnHtml=false&cmd=select+s.targetObjID,s.ra,s.dec,s.z,s.zErr,s.plate,s.fiberID,e.Flux_Hb_4861,e.Flux_OIII_5006,e.Flux_Ha_6562,e.Flux_NII_6583,sm.logMass,sm.Metallicity,s.class,s.targetType+FROM+SpecObj+AS+s+JOIN+emissionLinesPort+AS+e+ON+s.specObjID=e.specObjID+JOIN+stellarMassStarformingPort+AS+sm+ON+s.specObjID=sm.specObjID+where+s.dec+between+72.0+and+90.0+and+s.z+between+0.0448+and+0.0627+and+e.Flux_Ha_6562>0+and+e.Flux_NII_6583>0+order+by+s.ra&format=csv\"\n",
      "72.0\n",
      "\"http://cas.sdss.org/dr16/en/tools/search/x_results.aspx?searchtool=SQL&TaskName=Skyserver.Search.SQL&syntax=NoSyntax&ReturnHtml=false&cmd=select+s.targetObjID,s.ra,s.dec,s.z,s.zErr,s.plate,s.fiberID,e.Flux_Hb_4861,e.Flux_OIII_5006,e.Flux_Ha_6562,e.Flux_NII_6583,sm.logMass,sm.Metallicity,s.class,s.targetType+FROM+SpecObj+AS+s+JOIN+emissionLinesPort+AS+e+ON+s.specObjID=e.specObjID+JOIN+stellarMassStarformingPort+AS+sm+ON+s.specObjID=sm.specObjID+where+s.dec+between+72.0+and+90.0+and+s.z+between+0.0448+and+0.0627+and+e.Flux_Ha_6562>0+and+e.Flux_NII_6583>0+order+by+s.ra&format=csv\"\n"
     ]
    }
   ],
   "source": [
    "dmax=90\n",
    "dmin=-90\n",
    "\n",
    "n=10\n",
    "diff = (dmax-dmin)/n\n",
    "decmin=dmin+np.arange(n)*diff\n",
    "decmax=diff+dmin+np.arange(n)*diff\n",
    "\n",
    "url = '\"http://cas.sdss.org/dr16/en/tools/search/x_results.aspx?searchtool=SQL&TaskName=Skyserver.Search.SQL&syntax=NoSyntax&ReturnHtml=false&'\n",
    "command = 'cmd=select+s.targetObjID,s.ra,s.dec,s.z,s.zErr,s.plate,s.fiberID,'\n",
    "lines = 'e.Flux_Hb_4861,e.Flux_OIII_5006,e.Flux_Ha_6562,e.Flux_NII_6583,sm.logMass,sm.Metallicity,s.class,s.targetType+'\n",
    "origin = 'FROM+SpecObj+AS+s+JOIN+emissionLinesPort+AS+e+ON+s.specObjID=e.specObjID+'\n",
    "origin += 'JOIN+stellarMassStarformingPort+AS+sm+ON+s.specObjID=sm.specObjID+'\n",
    "condition = 'where+s.dec+between+'+str(idecmin)\n",
    "condition +='+and+'+str(idecmax)+'+and+s.z+between+0.0448+and+0.0627'\n",
    "condition +='+and+e.Flux_Ha_6562>0+and+e.Flux_NII_6583>0'\n",
    "outformat = '+order+by+s.ra&format=csv\"'\n",
    "\n",
    "outdir = '/media/Data/workspace/Clusters/A85/Spectra/SDSS/'\n",
    "outfile = 'SDSS_lines.ASC'\n",
    "fields = ['targetObjID','X_WORLD','Y_WORLD','z','zErr','Plate','FiberID',\n",
    "          'Hb4861 [10-17 ergs/cm2/s/A]','[OIII]5006 [10-17 ergs/cm2/s/A]',\n",
    "          'Ha6562 [10-17 ergs/cm2/s/A]','[NII]6583 [10-17 ergs/cm2/s/A]',\n",
    "         'StellarMass [dex solar mass]','Metallicity','Class','Target']\n",
    "text_file = open(outdir+outfile, \"wt\")\n",
    "for i, field in enumerate(fields):\n",
    "    text_file.write('# {:1d} '.format(i+1)+field+'\\n')\n",
    "text_file.close()\n",
    "\n",
    "for idecmin, idecmax in zip(decmin, decmax):\n",
    "    string = url+command+lines+origin+condition+outformat\n",
    "    print(idecmin)\n",
    "    print(string)\n",
    "    os.system('wget -l 1 -o log -O - '+string+' | tail -n +2 | sed -e \"s/,/  /g\" -e \"1d\" >> '+outdir+outfile)\n"
   ]
  },
  {
   "cell_type": "markdown",
   "metadata": {},
   "source": [
    "## Nearby galaxies"
   ]
  },
  {
   "cell_type": "code",
   "execution_count": 126,
   "metadata": {},
   "outputs": [
    {
     "name": "stdout",
     "output_type": "stream",
     "text": [
      "-90.0\n",
      "\"http://cas.sdss.org/dr16/en/tools/search/x_results.aspx?searchtool=SQL&TaskName=Skyserver.Search.SQL&syntax=NoSyntax&ReturnHtml=false&cmd=select+s.targetObjID,s.ra,s.dec,s.z,s.zErr,s.plate,s.fiberID,e.Flux_Hb_4861,e.Flux_OIII_5006,e.Flux_Ha_6562,e.Flux_NII_6583,sm.logMass,sm.Metallicity,s.class,s.targetType+FROM+SpecObj+AS+s+JOIN+emissionLinesPort+AS+e+ON+s.specObjID=e.specObjID+JOIN+stellarMassStarformingPort+AS+sm+ON+s.specObjID=sm.specObjID+where+s.dec+between+-9.0+and+0.0+and+s.z+between+0.00+and+0.04+and+e.Flux_Ha_6562>0+and+e.Flux_NII_6583>0+order+by+s.ra&format=csv\"\n",
      "-81.0\n",
      "\"http://cas.sdss.org/dr16/en/tools/search/x_results.aspx?searchtool=SQL&TaskName=Skyserver.Search.SQL&syntax=NoSyntax&ReturnHtml=false&cmd=select+s.targetObjID,s.ra,s.dec,s.z,s.zErr,s.plate,s.fiberID,e.Flux_Hb_4861,e.Flux_OIII_5006,e.Flux_Ha_6562,e.Flux_NII_6583,sm.logMass,sm.Metallicity,s.class,s.targetType+FROM+SpecObj+AS+s+JOIN+emissionLinesPort+AS+e+ON+s.specObjID=e.specObjID+JOIN+stellarMassStarformingPort+AS+sm+ON+s.specObjID=sm.specObjID+where+s.dec+between+-9.0+and+0.0+and+s.z+between+0.00+and+0.04+and+e.Flux_Ha_6562>0+and+e.Flux_NII_6583>0+order+by+s.ra&format=csv\"\n",
      "-72.0\n",
      "\"http://cas.sdss.org/dr16/en/tools/search/x_results.aspx?searchtool=SQL&TaskName=Skyserver.Search.SQL&syntax=NoSyntax&ReturnHtml=false&cmd=select+s.targetObjID,s.ra,s.dec,s.z,s.zErr,s.plate,s.fiberID,e.Flux_Hb_4861,e.Flux_OIII_5006,e.Flux_Ha_6562,e.Flux_NII_6583,sm.logMass,sm.Metallicity,s.class,s.targetType+FROM+SpecObj+AS+s+JOIN+emissionLinesPort+AS+e+ON+s.specObjID=e.specObjID+JOIN+stellarMassStarformingPort+AS+sm+ON+s.specObjID=sm.specObjID+where+s.dec+between+-9.0+and+0.0+and+s.z+between+0.00+and+0.04+and+e.Flux_Ha_6562>0+and+e.Flux_NII_6583>0+order+by+s.ra&format=csv\"\n",
      "-63.0\n",
      "\"http://cas.sdss.org/dr16/en/tools/search/x_results.aspx?searchtool=SQL&TaskName=Skyserver.Search.SQL&syntax=NoSyntax&ReturnHtml=false&cmd=select+s.targetObjID,s.ra,s.dec,s.z,s.zErr,s.plate,s.fiberID,e.Flux_Hb_4861,e.Flux_OIII_5006,e.Flux_Ha_6562,e.Flux_NII_6583,sm.logMass,sm.Metallicity,s.class,s.targetType+FROM+SpecObj+AS+s+JOIN+emissionLinesPort+AS+e+ON+s.specObjID=e.specObjID+JOIN+stellarMassStarformingPort+AS+sm+ON+s.specObjID=sm.specObjID+where+s.dec+between+-9.0+and+0.0+and+s.z+between+0.00+and+0.04+and+e.Flux_Ha_6562>0+and+e.Flux_NII_6583>0+order+by+s.ra&format=csv\"\n",
      "-54.0\n",
      "\"http://cas.sdss.org/dr16/en/tools/search/x_results.aspx?searchtool=SQL&TaskName=Skyserver.Search.SQL&syntax=NoSyntax&ReturnHtml=false&cmd=select+s.targetObjID,s.ra,s.dec,s.z,s.zErr,s.plate,s.fiberID,e.Flux_Hb_4861,e.Flux_OIII_5006,e.Flux_Ha_6562,e.Flux_NII_6583,sm.logMass,sm.Metallicity,s.class,s.targetType+FROM+SpecObj+AS+s+JOIN+emissionLinesPort+AS+e+ON+s.specObjID=e.specObjID+JOIN+stellarMassStarformingPort+AS+sm+ON+s.specObjID=sm.specObjID+where+s.dec+between+-9.0+and+0.0+and+s.z+between+0.00+and+0.04+and+e.Flux_Ha_6562>0+and+e.Flux_NII_6583>0+order+by+s.ra&format=csv\"\n",
      "-45.0\n",
      "\"http://cas.sdss.org/dr16/en/tools/search/x_results.aspx?searchtool=SQL&TaskName=Skyserver.Search.SQL&syntax=NoSyntax&ReturnHtml=false&cmd=select+s.targetObjID,s.ra,s.dec,s.z,s.zErr,s.plate,s.fiberID,e.Flux_Hb_4861,e.Flux_OIII_5006,e.Flux_Ha_6562,e.Flux_NII_6583,sm.logMass,sm.Metallicity,s.class,s.targetType+FROM+SpecObj+AS+s+JOIN+emissionLinesPort+AS+e+ON+s.specObjID=e.specObjID+JOIN+stellarMassStarformingPort+AS+sm+ON+s.specObjID=sm.specObjID+where+s.dec+between+-9.0+and+0.0+and+s.z+between+0.00+and+0.04+and+e.Flux_Ha_6562>0+and+e.Flux_NII_6583>0+order+by+s.ra&format=csv\"\n",
      "-36.0\n",
      "\"http://cas.sdss.org/dr16/en/tools/search/x_results.aspx?searchtool=SQL&TaskName=Skyserver.Search.SQL&syntax=NoSyntax&ReturnHtml=false&cmd=select+s.targetObjID,s.ra,s.dec,s.z,s.zErr,s.plate,s.fiberID,e.Flux_Hb_4861,e.Flux_OIII_5006,e.Flux_Ha_6562,e.Flux_NII_6583,sm.logMass,sm.Metallicity,s.class,s.targetType+FROM+SpecObj+AS+s+JOIN+emissionLinesPort+AS+e+ON+s.specObjID=e.specObjID+JOIN+stellarMassStarformingPort+AS+sm+ON+s.specObjID=sm.specObjID+where+s.dec+between+-9.0+and+0.0+and+s.z+between+0.00+and+0.04+and+e.Flux_Ha_6562>0+and+e.Flux_NII_6583>0+order+by+s.ra&format=csv\"\n",
      "-27.0\n",
      "\"http://cas.sdss.org/dr16/en/tools/search/x_results.aspx?searchtool=SQL&TaskName=Skyserver.Search.SQL&syntax=NoSyntax&ReturnHtml=false&cmd=select+s.targetObjID,s.ra,s.dec,s.z,s.zErr,s.plate,s.fiberID,e.Flux_Hb_4861,e.Flux_OIII_5006,e.Flux_Ha_6562,e.Flux_NII_6583,sm.logMass,sm.Metallicity,s.class,s.targetType+FROM+SpecObj+AS+s+JOIN+emissionLinesPort+AS+e+ON+s.specObjID=e.specObjID+JOIN+stellarMassStarformingPort+AS+sm+ON+s.specObjID=sm.specObjID+where+s.dec+between+-9.0+and+0.0+and+s.z+between+0.00+and+0.04+and+e.Flux_Ha_6562>0+and+e.Flux_NII_6583>0+order+by+s.ra&format=csv\"\n",
      "-18.0\n",
      "\"http://cas.sdss.org/dr16/en/tools/search/x_results.aspx?searchtool=SQL&TaskName=Skyserver.Search.SQL&syntax=NoSyntax&ReturnHtml=false&cmd=select+s.targetObjID,s.ra,s.dec,s.z,s.zErr,s.plate,s.fiberID,e.Flux_Hb_4861,e.Flux_OIII_5006,e.Flux_Ha_6562,e.Flux_NII_6583,sm.logMass,sm.Metallicity,s.class,s.targetType+FROM+SpecObj+AS+s+JOIN+emissionLinesPort+AS+e+ON+s.specObjID=e.specObjID+JOIN+stellarMassStarformingPort+AS+sm+ON+s.specObjID=sm.specObjID+where+s.dec+between+-9.0+and+0.0+and+s.z+between+0.00+and+0.04+and+e.Flux_Ha_6562>0+and+e.Flux_NII_6583>0+order+by+s.ra&format=csv\"\n",
      "-9.0\n",
      "\"http://cas.sdss.org/dr16/en/tools/search/x_results.aspx?searchtool=SQL&TaskName=Skyserver.Search.SQL&syntax=NoSyntax&ReturnHtml=false&cmd=select+s.targetObjID,s.ra,s.dec,s.z,s.zErr,s.plate,s.fiberID,e.Flux_Hb_4861,e.Flux_OIII_5006,e.Flux_Ha_6562,e.Flux_NII_6583,sm.logMass,sm.Metallicity,s.class,s.targetType+FROM+SpecObj+AS+s+JOIN+emissionLinesPort+AS+e+ON+s.specObjID=e.specObjID+JOIN+stellarMassStarformingPort+AS+sm+ON+s.specObjID=sm.specObjID+where+s.dec+between+-9.0+and+0.0+and+s.z+between+0.00+and+0.04+and+e.Flux_Ha_6562>0+and+e.Flux_NII_6583>0+order+by+s.ra&format=csv\"\n"
     ]
    }
   ],
   "source": [
    "dmax=0\n",
    "dmin=-90\n",
    "\n",
    "n=10\n",
    "diff = (dmax-dmin)/n\n",
    "decmin=dmin+np.arange(n)*diff\n",
    "decmax=diff+dmin+np.arange(n)*diff\n",
    "\n",
    "url = '\"http://cas.sdss.org/dr16/en/tools/search/x_results.aspx?searchtool=SQL&TaskName=Skyserver.Search.SQL&syntax=NoSyntax&ReturnHtml=false&'\n",
    "command = 'cmd=select+s.targetObjID,s.ra,s.dec,s.z,s.zErr,s.plate,s.fiberID,'\n",
    "lines = 'e.Flux_Hb_4861,e.Flux_OIII_5006,e.Flux_Ha_6562,e.Flux_NII_6583,sm.logMass,sm.Metallicity,s.class,s.targetType'\n",
    "origin = '+FROM+SpecObj+AS+s+JOIN+emissionLinesPort+AS+e+ON+s.specObjID=e.specObjID+'\n",
    "origin += 'JOIN+stellarMassStarformingPort+AS+sm+ON+s.specObjID=sm.specObjID'\n",
    "condition = '+where+s.dec+between+'+str(idecmin)\n",
    "condition +='+and+'+str(idecmax)+'+and+s.z+between+0.00+and+0.04'\n",
    "condition +='+and+e.Flux_Ha_6562>0+and+e.Flux_NII_6583>0'\n",
    "outformat = '+order+by+s.ra&format=csv\"'\n",
    "\n",
    "outdir = '/media/Data/workspace/Clusters/A85/Spectra/SDSS/'\n",
    "outfile = 'SDSS_lowz_lines.ASC'\n",
    "fields = ['targetObjID','X_WORLD','Y_WORLD','z','zErr','Plate','FiberID',\n",
    "          'Hb4861 [10-17 ergs/cm2/s/A]','[OIII]5006 [10-17 ergs/cm2/s/A]',\n",
    "          'Ha6562 [10-17 ergs/cm2/s/A]','[NII]6583 [10-17 ergs/cm2/s/A]',\n",
    "         'StellarMass [dex solar mass]','Metallicity','Class','Target']\n",
    "text_file = open(outdir+outfile, \"wt\")\n",
    "for i, field in enumerate(fields):\n",
    "    text_file.write('# {:1d} '.format(i+1)+field+'\\n')\n",
    "text_file.close()\n",
    "\n",
    "for idecmin, idecmax in zip(decmin, decmax):\n",
    "    string = url+command+lines+origin+condition+outformat\n",
    "    print(idecmin)\n",
    "    print(string)\n",
    "    os.system('wget -l 1 -o log -O - '+string+' | tail -n +2 | sed -e \"s/,/  /g\" -e \"1d\" >> '+outdir+outfile)"
   ]
  },
  {
   "cell_type": "markdown",
   "metadata": {},
   "source": [
    "## Stellar masses (Maraston) for galaxies in the A85 field"
   ]
  },
  {
   "cell_type": "code",
   "execution_count": 121,
   "metadata": {},
   "outputs": [
    {
     "name": "stdout",
     "output_type": "stream",
     "text": [
      "-10.4\n",
      "\"http://cas.sdss.org/dr16/en/tools/search/x_results.aspx?searchtool=SQL&TaskName=Skyserver.Search.SQL&syntax=NoSyntax&ReturnHtml=false&cmd=select+s.targetObjID,s.ra,s.dec,s.z,s.zErr,s.plate,s.fiberID,sm.logMass,sm.Metallicity+FROM+SpecObj+AS+s+JOIN++stellarMassStarformingPort+AS+sm+ON+s.specObjID=sm.specObjID+where+s.ra+between+10.0+and+11.0+and+s.dec+between+-9.0+and+0.0+and+s.z+between+0.0+and+0.07+order+by+s.ra&format=csv\"\n",
      "-10.08\n",
      "\"http://cas.sdss.org/dr16/en/tools/search/x_results.aspx?searchtool=SQL&TaskName=Skyserver.Search.SQL&syntax=NoSyntax&ReturnHtml=false&cmd=select+s.targetObjID,s.ra,s.dec,s.z,s.zErr,s.plate,s.fiberID,sm.logMass,sm.Metallicity+FROM+SpecObj+AS+s+JOIN++stellarMassStarformingPort+AS+sm+ON+s.specObjID=sm.specObjID+where+s.ra+between+10.0+and+11.0+and+s.dec+between+-9.0+and+0.0+and+s.z+between+0.0+and+0.07+order+by+s.ra&format=csv\"\n",
      "-9.76\n",
      "\"http://cas.sdss.org/dr16/en/tools/search/x_results.aspx?searchtool=SQL&TaskName=Skyserver.Search.SQL&syntax=NoSyntax&ReturnHtml=false&cmd=select+s.targetObjID,s.ra,s.dec,s.z,s.zErr,s.plate,s.fiberID,sm.logMass,sm.Metallicity+FROM+SpecObj+AS+s+JOIN++stellarMassStarformingPort+AS+sm+ON+s.specObjID=sm.specObjID+where+s.ra+between+10.0+and+11.0+and+s.dec+between+-9.0+and+0.0+and+s.z+between+0.0+and+0.07+order+by+s.ra&format=csv\"\n",
      "-9.440000000000001\n",
      "\"http://cas.sdss.org/dr16/en/tools/search/x_results.aspx?searchtool=SQL&TaskName=Skyserver.Search.SQL&syntax=NoSyntax&ReturnHtml=false&cmd=select+s.targetObjID,s.ra,s.dec,s.z,s.zErr,s.plate,s.fiberID,sm.logMass,sm.Metallicity+FROM+SpecObj+AS+s+JOIN++stellarMassStarformingPort+AS+sm+ON+s.specObjID=sm.specObjID+where+s.ra+between+10.0+and+11.0+and+s.dec+between+-9.0+and+0.0+and+s.z+between+0.0+and+0.07+order+by+s.ra&format=csv\"\n",
      "-9.120000000000001\n",
      "\"http://cas.sdss.org/dr16/en/tools/search/x_results.aspx?searchtool=SQL&TaskName=Skyserver.Search.SQL&syntax=NoSyntax&ReturnHtml=false&cmd=select+s.targetObjID,s.ra,s.dec,s.z,s.zErr,s.plate,s.fiberID,sm.logMass,sm.Metallicity+FROM+SpecObj+AS+s+JOIN++stellarMassStarformingPort+AS+sm+ON+s.specObjID=sm.specObjID+where+s.ra+between+10.0+and+11.0+and+s.dec+between+-9.0+and+0.0+and+s.z+between+0.0+and+0.07+order+by+s.ra&format=csv\"\n"
     ]
    }
   ],
   "source": [
    "import numpy as np\n",
    "import os    \n",
    "\n",
    "ra0 = 10.4075\n",
    "dec0 = -9.3425\n",
    "\n",
    "dmax=-8.8\n",
    "dmin=-10.4\n",
    "amin=10.\n",
    "amax=11.\n",
    "\n",
    "ramin = str(amin)\n",
    "ramax = str(amax)\n",
    "\n",
    "n=5\n",
    "diff = (dmax-dmin)/n\n",
    "decmin=dmin+np.arange(n)*diff\n",
    "decmax=diff+dmin+np.arange(n)*diff\n",
    "\n",
    "url = '\"http://cas.sdss.org/dr16/en/tools/search/x_results.aspx?searchtool=SQL&TaskName=Skyserver.Search.SQL&syntax=NoSyntax&ReturnHtml=false&'\n",
    "command = 'cmd=select+s.targetObjID,s.ra,s.dec,s.z,s.zErr,s.plate,s.fiberID,sm.logMass,sm.Metallicity+'\n",
    "origin = 'FROM+SpecObj+AS+s+JOIN++stellarMassStarformingPort+AS+sm+ON+s.specObjID=sm.specObjID+'\n",
    "condition = 'where+s.ra+between+'+ramin+'+and+'+ramax+'+and+s.dec+between+'+str(idecmin)+'+and+'+str(idecmax)+'+and+s.z+between+0.0+and+0.07'\n",
    "outformat = '+order+by+s.ra&format=csv\"'\n",
    "\n",
    "outdir = '/media/Data/workspace/Clusters/A85/a85metallicity/data/'\n",
    "outfile = 'A85_SDSS_masses.ASC'\n",
    "fields = ['targetObjID','X_WORLD','Y_WORLD','z','zErr','Plate','FiberID',\n",
    "         'StellarMass [dex solar mass]','Metallicity']\n",
    "text_file = open(outdir+outfile, \"wt\")\n",
    "for i, field in enumerate(fields):\n",
    "    text_file.write('# {:1d} '.format(i+1)+field+'\\n')\n",
    "text_file.close()\n",
    "\n",
    "for idecmin, idecmax in zip(decmin, decmax):\n",
    "    string = url+command+origin+condition+outformat\n",
    "    print(idecmin)\n",
    "    print(string)\n",
    "    os.system('wget -l 1 -o log -O - '+string+' | tail -n +2 | sed -e \"s/,/  /g\" -e \"1d\" >> '+outdir+outfile)\n"
   ]
  },
  {
   "cell_type": "markdown",
   "metadata": {},
   "source": [
    "## Comparison of stellar masses"
   ]
  },
  {
   "cell_type": "code",
   "execution_count": 108,
   "metadata": {},
   "outputs": [
    {
     "name": "stdout",
     "output_type": "stream",
     "text": [
      "(100,)\n"
     ]
    },
    {
     "name": "stderr",
     "output_type": "stream",
     "text": [
      "/home/dario/anaconda3/lib/python3.7/site-packages/ipykernel_launcher.py:14: RuntimeWarning: divide by zero encountered in true_divide\n",
      "  \n",
      "/home/dario/anaconda3/lib/python3.7/site-packages/ipykernel_launcher.py:14: RuntimeWarning: invalid value encountered in true_divide\n",
      "  \n",
      "/home/dario/anaconda3/lib/python3.7/site-packages/ipykernel_launcher.py:14: RuntimeWarning: divide by zero encountered in log10\n",
      "  \n",
      "/home/dario/anaconda3/lib/python3.7/site-packages/ipykernel_launcher.py:15: RuntimeWarning: divide by zero encountered in true_divide\n",
      "  from ipykernel import kernelapp as app\n",
      "/home/dario/anaconda3/lib/python3.7/site-packages/ipykernel_launcher.py:15: RuntimeWarning: divide by zero encountered in log10\n",
      "  from ipykernel import kernelapp as app\n",
      "/home/dario/anaconda3/lib/python3.7/site-packages/ipykernel_launcher.py:17: RuntimeWarning: invalid value encountered in greater\n"
     ]
    },
    {
     "data": {
      "image/png": "[encoded data removed]",
      "text/plain": [
       "<Figure size 432x288 with 1 Axes>"
      ]
     },
     "metadata": {
      "needs_background": "light"
     },
     "output_type": "display_data"
    },
    {
     "name": "stdout",
     "output_type": "stream",
     "text": [
      "max dist  0.003239999993345976\n",
      "0.0007200000017018827 0d00m00.0007s\n",
      "<SkyCoord (ICRS): (ra, dec) in deg\n",
      "    (150.305475, -9.0507018)> <SkyCoord (ICRS): (ra, dec) in deg\n",
      "    (150.305475, -9.050702)>\n"
     ]
    },
    {
     "data": {
      "image/png": "[encoded data removed]",
      "text/plain": [
       "<Figure size 432x288 with 1 Axes>"
      ]
     },
     "metadata": {
      "needs_background": "light"
     },
     "output_type": "display_data"
    },
    {
     "data": {
      "image/png": "[encoded data removed]",
      "text/plain": [
       "<Figure size 432x288 with 1 Axes>"
      ]
     },
     "metadata": {
      "needs_background": "light"
     },
     "output_type": "display_data"
    },
    {
     "data": {
      "image/png": "[encoded data removed]",
      "text/plain": [
       "<Figure size 432x288 with 1 Axes>"
      ]
     },
     "metadata": {
      "needs_background": "light"
     },
     "output_type": "display_data"
    }
   ],
   "source": [
    "%matplotlib inline\n",
    "import matplotlib.pyplot as plt\n",
    "import numpy as np\n",
    "import pandas as pd\n",
    "\n",
    "\n",
    "\n",
    "\n",
    "# SDSS data\n",
    "data = np.loadtxt('/media/Data/workspace/Clusters/A85/a85metallicity/data/A85_SDSS_lines.ASC.gz', skiprows=13)\n",
    "ra1 = data[:,1]\n",
    "dec1 = data[:,2]\n",
    "mass1 = data[:,11]\n",
    "xx = np.log10(data[:,10]/data[:,9])\n",
    "yy = np.log10(data[:,8]/data[:,7])\n",
    "# Selection of non AGN\n",
    "AGN = (yy > (0.61/(xx-0.47+0.15)+1.19)) | (xx > 0.25)\n",
    "ra1 = np.array(ra1[~AGN])\n",
    "dec1 = np.array(dec1[~AGN])\n",
    "mass1 = np.array(mass1[~AGN])\n",
    "print(np.shape(ra1))\n",
    "\n",
    "plt.scatter(xx,yy,color='red')\n",
    "plt.scatter(xx[AGN],yy[AGN],color='orange')\n",
    "\n",
    "# Our estimates\n",
    "a85 = pd.read_csv('/media/Data/workspace/Clusters/A85/a85metallicity/data/A85_MasterTable.csv')\n",
    "ra2 = np.array(a85.RA)\n",
    "dec2 = np.array(a85.Dec)\n",
    "mass2 = np.array(a85.mass)\n",
    "xx = np.log10(a85.NII/a85.Ha)\n",
    "yy = np.log10(a85.OIII/a85.Hb)\n",
    "# Selection of non AGN\n",
    "AGN = (yy > (0.61/(xx-0.47+0.15)+1.19)) | (xx > 0.25)\n",
    "ra2 = np.array(ra2[~AGN])\n",
    "dec2 = np.array(dec2[~AGN])\n",
    "mass2 = np.array(mass2[~AGN])\n",
    "plt.scatter(xx,yy,color='blue')\n",
    "plt.scatter(xx[AGN],yy[AGN],color='cyan')\n",
    "\n",
    "\n",
    "plt.show()\n",
    "# match and comparison\n",
    "from astropy import units as u\n",
    "from astropy.coordinates import SkyCoord, match_coordinates_sky\n",
    "\n",
    "\n",
    "sdss = SkyCoord(ra=ra1*u.hour, dec=dec1*u.degree)  \n",
    "ours = SkyCoord(ra=ra2*u.hour, dec=dec2*u.degree)  \n",
    "idx, d2d, d3d = sdss.match_to_catalog_sky(ours)  \n",
    "\n",
    "print('max dist ', np.max(d2d.arcsec))\n",
    "print(d2d[0].arcsec, d2d[0])\n",
    "print(sdss[0], ours[idx[0]])\n",
    "\n",
    "mediandiff = np.median(np.log10(mass2[idx]) - mass1)\n",
    "plt.plot(np.log10(mass2[idx]), np.log10(mass2[idx]) - mass1,'.')\n",
    "plt.ylim([-1.5,1.5])\n",
    "plt.axhline(mediandiff)\n",
    "plt.show()\n",
    "\n",
    "plt.plot(mass1, np.log10(mass2[idx]), 'o')\n",
    "plt.xlabel('SDSS')\n",
    "plt.ylabel('Ours')\n",
    "plt.plot([9,11],[9,11])\n",
    "plt.show()\n",
    "\n",
    "# Check on matching\n",
    "plt.plot(ra2[idx], dec2[idx], 'o', color='yellow')\n",
    "plt.plot(ra1, dec1, '.', color='blue', markersize=2)\n",
    "plt.show()"
   ]
  },
  {
   "cell_type": "code",
   "execution_count": null,
   "metadata": {},
   "outputs": [],
   "source": []
  }
 ],
 "metadata": {
  "kernelspec": {
   "display_name": "Python 3",
   "language": "python",
   "name": "python3"
  },
  "language_info": {
   "codemirror_mode": {
    "name": "ipython",
    "version": 3
   },
   "file_extension": ".py",
   "mimetype": "text/x-python",
   "name": "python",
   "nbconvert_exporter": "python",
   "pygments_lexer": "ipython3",
   "version": "3.7.4"
  }
 },
 "nbformat": 4,
 "nbformat_minor": 4
}
